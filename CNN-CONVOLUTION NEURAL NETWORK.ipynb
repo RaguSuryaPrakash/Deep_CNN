{
 "cells": [
  {
   "cell_type": "code",
   "execution_count": 17,
   "id": "79508e0a-3b3c-446e-8c06-6667f2f088f2",
   "metadata": {},
   "outputs": [],
   "source": [
    "import tensorflow as tf\n",
    "from tensorflow.keras import layers\n",
    "import keras\n",
    "from keras.models import Sequential\n",
    "from keras.layers import Dense,Conv2D,Dropout,Flatten,MaxPooling2D\n",
    "from keras.datasets import mnist\n",
    "from tensorflow.keras.utils import to_categorical\n",
    "from scikeras.wrappers import KerasClassifier"
   ]
  },
  {
   "cell_type": "code",
   "execution_count": 40,
   "id": "0a354d04-78c4-4427-8a46-d6c268f3a812",
   "metadata": {},
   "outputs": [],
   "source": [
    "import numpy as np\n",
    "import pandas as pd\n",
    "import matplotlib.pyplot as plt\n",
    "import pydot\n",
    "import seaborn as sns\n",
    "from sklearn.metrics import confusion_matrix\n",
    "from sklearn.metrics import accuracy_score\n",
    "from sklearn.model_selection import GridSearchCV"
   ]
  },
  {
   "cell_type": "code",
   "execution_count": 16,
   "id": "2c1a1a30-f7e9-4932-bcc6-777b7dce1057",
   "metadata": {},
   "outputs": [],
   "source": [
    "#input and output of dataset taken from tf.keras.datasets.mnist.load_dataset()\n",
    "import tensorflow as tf\n",
    "(x_train,y_train),(x_test,y_test)=tf.keras.datasets.mnist.load_data()"
   ]
  },
  {
   "cell_type": "code",
   "execution_count": 3,
   "id": "2650f52f-58e8-4df6-a185-7fbc9ef5a8b1",
   "metadata": {},
   "outputs": [
    {
     "data": {
      "text/plain": [
       "(60000, 28, 28)"
      ]
     },
     "execution_count": 3,
     "metadata": {},
     "output_type": "execute_result"
    }
   ],
   "source": [
    "#60000 represent images\n",
    "#28,28 represents row and columns each image\n",
    "x_train.shape"
   ]
  },
  {
   "cell_type": "code",
   "execution_count": 4,
   "id": "8c2a3789-4a49-48b9-9741-11e9676f4e1b",
   "metadata": {},
   "outputs": [
    {
     "data": {
      "text/plain": [
       "(10000, 28, 28)"
      ]
     },
     "execution_count": 4,
     "metadata": {},
     "output_type": "execute_result"
    }
   ],
   "source": [
    "x_test.shape"
   ]
  },
  {
   "cell_type": "code",
   "execution_count": 5,
   "id": "a13ad864-afba-466e-9ae8-e9cc976e0080",
   "metadata": {},
   "outputs": [],
   "source": [
    "# preprocessing CNN"
   ]
  },
  {
   "cell_type": "code",
   "execution_count": 6,
   "id": "02d496c1-cf67-4d8e-86a5-945990f29bb3",
   "metadata": {},
   "outputs": [],
   "source": [
    "# in CNN we need 28,28,1 so using this method we can reshape the model\n",
    "x_train=x_train.reshape(x_train.shape[0],28,28,1)\n",
    "x_test=x_test.reshape(x_test.shape[0],28,28,1)\n",
    "input_shape=28,28,1"
   ]
  },
  {
   "cell_type": "code",
   "execution_count": 8,
   "id": "31cfef92-8296-45f3-8057-008b3af084a0",
   "metadata": {},
   "outputs": [
    {
     "data": {
      "text/plain": [
       "(28, 28, 1)"
      ]
     },
     "execution_count": 8,
     "metadata": {},
     "output_type": "execute_result"
    }
   ],
   "source": [
    "input_shape"
   ]
  },
  {
   "cell_type": "code",
   "execution_count": 9,
   "id": "ea12380b-d9f4-4ea1-82c4-0002513ab48c",
   "metadata": {},
   "outputs": [],
   "source": [
    "#int,#flot,#string"
   ]
  },
  {
   "cell_type": "code",
   "execution_count": 12,
   "id": "2ebb97d3-9625-4cab-b75e-4db0a6e31e58",
   "metadata": {},
   "outputs": [],
   "source": [
    "x_train=x_train.astype(\"float32\")\n",
    "x_test=x_test.astype(\"float32\")"
   ]
  },
  {
   "cell_type": "code",
   "execution_count": 13,
   "id": "9a0fd19f-03d7-4640-aac4-46f18b3d42fb",
   "metadata": {},
   "outputs": [],
   "source": [
    "x_train/=255\n",
    "x_test/=255"
   ]
  },
  {
   "cell_type": "code",
   "execution_count": 21,
   "id": "300cf225-6a2d-4390-b721-d41a17d0d959",
   "metadata": {},
   "outputs": [
    {
     "name": "stderr",
     "output_type": "stream",
     "text": [
      "C:\\Users\\ragus\\anaconda3\\Lib\\site-packages\\keras\\src\\layers\\convolutional\\base_conv.py:107: UserWarning: Do not pass an `input_shape`/`input_dim` argument to a layer. When using Sequential models, prefer using an `Input(shape)` object as the first layer in the model instead.\n",
      "  super().__init__(activity_regularizer=activity_regularizer, **kwargs)\n"
     ]
    }
   ],
   "source": [
    "#CNN model created \n",
    "model=Sequential()\n",
    "#CNN 28=layers and layers size(3,3),and preprocessing save values 28,28,1(input_shape)\n",
    "model.add(Conv2D(28,kernel_size=(3,3),input_shape=input_shape))\n",
    "model.add(MaxPooling2D(pool_size=(2,2)))"
   ]
  },
  {
   "cell_type": "code",
   "execution_count": 23,
   "id": "80f6502f-8da9-4a19-a0f0-b331172c67c2",
   "metadata": {},
   "outputs": [],
   "source": [
    "# Ann\n",
    "model.add(Flatten())\n",
    "#dense=fully connect layers ,128=optimal number of units,activation function=tensorflow.neuralnetwork.relu\n",
    "model.add(Dense(128,activation=tf.nn.relu))\n",
    "model.add(Dropout(0.2))\n",
    "model.add(Dense(10,activation=tf.nn.softmax))"
   ]
  },
  {
   "cell_type": "code",
   "execution_count": 56,
   "id": "6796e893-ccf4-413b-9cbb-e015d11ce27e",
   "metadata": {},
   "outputs": [
    {
     "name": "stdout",
     "output_type": "stream",
     "text": [
      "Epoch 1/10\n",
      "\u001b[1m1500/1500\u001b[0m \u001b[32m━━━━━━━━━━━━━━━━━━━━\u001b[0m\u001b[37m\u001b[0m \u001b[1m10s\u001b[0m 6ms/step - accuracy: 0.9735 - loss: 0.1276 - val_accuracy: 0.9880 - val_loss: 0.0467\n",
      "Epoch 2/10\n",
      "\u001b[1m1500/1500\u001b[0m \u001b[32m━━━━━━━━━━━━━━━━━━━━\u001b[0m\u001b[37m\u001b[0m \u001b[1m9s\u001b[0m 6ms/step - accuracy: 0.9701 - loss: 0.1239 - val_accuracy: 0.9840 - val_loss: 0.0861\n",
      "Epoch 3/10\n",
      "\u001b[1m1500/1500\u001b[0m \u001b[32m━━━━━━━━━━━━━━━━━━━━\u001b[0m\u001b[37m\u001b[0m \u001b[1m9s\u001b[0m 6ms/step - accuracy: 0.9676 - loss: 0.1430 - val_accuracy: 0.9839 - val_loss: 0.0827\n",
      "Epoch 4/10\n",
      "\u001b[1m1500/1500\u001b[0m \u001b[32m━━━━━━━━━━━━━━━━━━━━\u001b[0m\u001b[37m\u001b[0m \u001b[1m9s\u001b[0m 6ms/step - accuracy: 0.9746 - loss: 0.1234 - val_accuracy: 0.9837 - val_loss: 0.0788\n",
      "Epoch 5/10\n",
      "\u001b[1m1500/1500\u001b[0m \u001b[32m━━━━━━━━━━━━━━━━━━━━\u001b[0m\u001b[37m\u001b[0m \u001b[1m9s\u001b[0m 6ms/step - accuracy: 0.9741 - loss: 0.1135 - val_accuracy: 0.9838 - val_loss: 0.0954\n",
      "Epoch 6/10\n",
      "\u001b[1m1500/1500\u001b[0m \u001b[32m━━━━━━━━━━━━━━━━━━━━\u001b[0m\u001b[37m\u001b[0m \u001b[1m9s\u001b[0m 6ms/step - accuracy: 0.9707 - loss: 0.1345 - val_accuracy: 0.9847 - val_loss: 0.0768\n",
      "Epoch 7/10\n",
      "\u001b[1m1500/1500\u001b[0m \u001b[32m━━━━━━━━━━━━━━━━━━━━\u001b[0m\u001b[37m\u001b[0m \u001b[1m9s\u001b[0m 6ms/step - accuracy: 0.9748 - loss: 0.1118 - val_accuracy: 0.9765 - val_loss: 0.1475\n",
      "Epoch 8/10\n",
      "\u001b[1m1500/1500\u001b[0m \u001b[32m━━━━━━━━━━━━━━━━━━━━\u001b[0m\u001b[37m\u001b[0m \u001b[1m9s\u001b[0m 6ms/step - accuracy: 0.9720 - loss: 0.1233 - val_accuracy: 0.9860 - val_loss: 0.0713\n",
      "Epoch 9/10\n",
      "\u001b[1m1500/1500\u001b[0m \u001b[32m━━━━━━━━━━━━━━━━━━━━\u001b[0m\u001b[37m\u001b[0m \u001b[1m9s\u001b[0m 6ms/step - accuracy: 0.9757 - loss: 0.1074 - val_accuracy: 0.9814 - val_loss: 0.1264\n",
      "Epoch 10/10\n",
      "\u001b[1m1500/1500\u001b[0m \u001b[32m━━━━━━━━━━━━━━━━━━━━\u001b[0m\u001b[37m\u001b[0m \u001b[1m9s\u001b[0m 6ms/step - accuracy: 0.9707 - loss: 0.1234 - val_accuracy: 0.9823 - val_loss: 0.0927\n"
     ]
    }
   ],
   "source": [
    "# Compile the model\n",
    "model.compile(optimizer='adam', loss='sparse_categorical_crossentropy', metrics=['accuracy'])\n",
    "# Fit the model\n",
    "history = model.fit(x=x_train, y=y_train, epochs=10,validation_split=0.2)"
   ]
  },
  {
   "cell_type": "code",
   "execution_count": 69,
   "id": "84fc3e81-abf4-46cb-a597-6efc16fcb933",
   "metadata": {},
   "outputs": [
    {
     "name": "stdout",
     "output_type": "stream",
     "text": [
      "\u001b[1m313/313\u001b[0m \u001b[32m━━━━━━━━━━━━━━━━━━━━\u001b[0m\u001b[37m\u001b[0m \u001b[1m0s\u001b[0m 1ms/step\n"
     ]
    }
   ],
   "source": [
    "y_predict = model.predict(x_test)"
   ]
  },
  {
   "cell_type": "code",
   "execution_count": 70,
   "id": "8de630b8-65ce-46a1-a09f-f92936219622",
   "metadata": {},
   "outputs": [
    {
     "data": {
      "text/plain": [
       "array([0.0000000e+00, 5.4102640e-29, 0.0000000e+00, 2.8447880e-26,\n",
       "       6.3172697e-33, 0.0000000e+00, 0.0000000e+00, 1.0000000e+00,\n",
       "       0.0000000e+00, 2.6014152e-21], dtype=float32)"
      ]
     },
     "execution_count": 70,
     "metadata": {},
     "output_type": "execute_result"
    }
   ],
   "source": [
    "y_predict[0]"
   ]
  },
  {
   "cell_type": "code",
   "execution_count": 71,
   "id": "d10b8513-c6d5-4a1d-ab83-f7af1aeddf9e",
   "metadata": {},
   "outputs": [],
   "source": [
    "y_predict=np.argmax(y_predict, axis=0)\n",
    "y_test_eval=np.argmax(y_test, axis=0)"
   ]
  },
  {
   "cell_type": "code",
   "execution_count": 72,
   "id": "8a81874c-4ada-43cf-a5b7-5ca2281ba5bb",
   "metadata": {},
   "outputs": [
    {
     "data": {
      "text/plain": [
       "3"
      ]
     },
     "execution_count": 72,
     "metadata": {},
     "output_type": "execute_result"
    }
   ],
   "source": [
    "y_predict[0]"
   ]
  },
  {
   "cell_type": "code",
   "execution_count": 73,
   "id": "3814e296-feb1-4561-b90f-bd722c2acf4d",
   "metadata": {},
   "outputs": [
    {
     "data": {
      "text/plain": [
       "7"
      ]
     },
     "execution_count": 73,
     "metadata": {},
     "output_type": "execute_result"
    }
   ],
   "source": [
    "y_test_eval"
   ]
  },
  {
   "cell_type": "code",
   "execution_count": 74,
   "id": "3fa31238-fc03-4d87-a75d-0a8f8c6598cf",
   "metadata": {},
   "outputs": [],
   "source": [
    "y_pre=pd.DataFrame(y_predict)"
   ]
  },
  {
   "cell_type": "code",
   "execution_count": 75,
   "id": "33f23654-a2ad-41b3-8bff-46c594430f48",
   "metadata": {},
   "outputs": [
    {
     "data": {
      "text/html": [
       "<div>\n",
       "<style scoped>\n",
       "    .dataframe tbody tr th:only-of-type {\n",
       "        vertical-align: middle;\n",
       "    }\n",
       "\n",
       "    .dataframe tbody tr th {\n",
       "        vertical-align: top;\n",
       "    }\n",
       "\n",
       "    .dataframe thead th {\n",
       "        text-align: right;\n",
       "    }\n",
       "</style>\n",
       "<table border=\"1\" class=\"dataframe\">\n",
       "  <thead>\n",
       "    <tr style=\"text-align: right;\">\n",
       "      <th></th>\n",
       "      <th>0</th>\n",
       "    </tr>\n",
       "  </thead>\n",
       "  <tbody>\n",
       "    <tr>\n",
       "      <th>0</th>\n",
       "      <td>3</td>\n",
       "    </tr>\n",
       "    <tr>\n",
       "      <th>1</th>\n",
       "      <td>2</td>\n",
       "    </tr>\n",
       "    <tr>\n",
       "      <th>2</th>\n",
       "      <td>1</td>\n",
       "    </tr>\n",
       "    <tr>\n",
       "      <th>3</th>\n",
       "      <td>30</td>\n",
       "    </tr>\n",
       "    <tr>\n",
       "      <th>4</th>\n",
       "      <td>4</td>\n",
       "    </tr>\n",
       "    <tr>\n",
       "      <th>5</th>\n",
       "      <td>15</td>\n",
       "    </tr>\n",
       "    <tr>\n",
       "      <th>6</th>\n",
       "      <td>11</td>\n",
       "    </tr>\n",
       "    <tr>\n",
       "      <th>7</th>\n",
       "      <td>0</td>\n",
       "    </tr>\n",
       "    <tr>\n",
       "      <th>8</th>\n",
       "      <td>110</td>\n",
       "    </tr>\n",
       "    <tr>\n",
       "      <th>9</th>\n",
       "      <td>9</td>\n",
       "    </tr>\n",
       "  </tbody>\n",
       "</table>\n",
       "</div>"
      ],
      "text/plain": [
       "     0\n",
       "0    3\n",
       "1    2\n",
       "2    1\n",
       "3   30\n",
       "4    4\n",
       "5   15\n",
       "6   11\n",
       "7    0\n",
       "8  110\n",
       "9    9"
      ]
     },
     "execution_count": 75,
     "metadata": {},
     "output_type": "execute_result"
    }
   ],
   "source": [
    "y_pre"
   ]
  },
  {
   "cell_type": "code",
   "execution_count": 77,
   "id": "1b4fba45-4c32-49ae-8d2a-e3dba506f6e8",
   "metadata": {},
   "outputs": [],
   "source": [
    "y_test_eval = np.array(y_test_eval)\n",
    "y_predict = np.array(y_predict)"
   ]
  },
  {
   "cell_type": "code",
   "execution_count": 78,
   "id": "ecd44217-714d-4b69-88f2-81b3467b5d5d",
   "metadata": {},
   "outputs": [],
   "source": [
    "y_test_eval = [0, 1, 2, 2, 1, 0]  # Replace with your actual y_test_eval data\n",
    "y_predict = [0, 2, 2, 2, 1, 0]  # Replace with your actual y_predicts "
   ]
  },
  {
   "cell_type": "code",
   "execution_count": 79,
   "id": "515f5e27-26e8-4098-be13-9450af7c25eb",
   "metadata": {},
   "outputs": [
    {
     "data": {
      "image/png": "[encoded data removed]",
      "text/plain": [
       "<Figure size 200x200 with 2 Axes>"
      ]
     },
     "metadata": {},
     "output_type": "display_data"
    }
   ],
   "source": [
    "#Confusion matrix for Digit MNIST\n",
    "con_mat=confusion_matrix(y_test_eval,y_predict)\n",
    "plt.style.use(\"grayscale\")\n",
    "plt.figure(figsize=(2,2))\n",
    "sns.heatmap(con_mat,annot=True,annot_kws={'size':15},linewidths=0.5,fmt=\"d\",cmap=\"gray\")\n",
    "plt.title('True or False predicted digit MNIST\\n',fontweight='bold',fontsize=15)\n",
    "plt.show()"
   ]
  },
  {
   "cell_type": "code",
   "execution_count": 80,
   "id": "3c1e7f14-fcc6-427f-9755-cb33b90a0521",
   "metadata": {},
   "outputs": [
    {
     "name": "stdout",
     "output_type": "stream",
     "text": [
      "              precision    recall  f1-score   support\n",
      "\n",
      "           0       1.00      1.00      1.00         2\n",
      "           1       1.00      0.50      0.67         2\n",
      "           2       0.67      1.00      0.80         2\n",
      "\n",
      "    accuracy                           0.83         6\n",
      "   macro avg       0.89      0.83      0.82         6\n",
      "weighted avg       0.89      0.83      0.82         6\n",
      "\n"
     ]
    }
   ],
   "source": [
    "from sklearn.metrics import classification_report\n",
    "print(classification_report(y_test_eval,y_predict))"
   ]
  },
  {
   "cell_type": "code",
   "execution_count": 81,
   "id": "6260a559-9e32-4500-aa4e-85cc494926f8",
   "metadata": {},
   "outputs": [
    {
     "name": "stdout",
     "output_type": "stream",
     "text": [
      "dict_keys(['accuracy', 'loss', 'val_accuracy', 'val_loss'])\n"
     ]
    }
   ],
   "source": [
    "print(history.history.keys())"
   ]
  },
  {
   "cell_type": "code",
   "execution_count": 82,
   "id": "8abfe1ec-49a0-4641-8721-e9f48d9cc35c",
   "metadata": {},
   "outputs": [
    {
     "data": {
      "image/png": "[encoded data removed]",
      "text/plain": [
       "<Figure size 640x480 with 1 Axes>"
      ]
     },
     "metadata": {},
     "output_type": "display_data"
    }
   ],
   "source": [
    "plt.plot(history.history['accuracy'])\n",
    "plt.plot(history.history['val_accuracy'])\n",
    "plt.title('model accuracy')\n",
    "plt.ylabel('accuracy')\n",
    "plt.xlabel('epoch')\n",
    "plt.legend(['train', 'test'], loc='best')\n",
    "plt.show()"
   ]
  },
  {
   "cell_type": "code",
   "execution_count": 83,
   "id": "390705a3-7d44-4d77-9580-fd435abbb13f",
   "metadata": {},
   "outputs": [
    {
     "data": {
      "image/png": "[encoded data removed]",
      "text/plain": [
       "<Figure size 640x480 with 1 Axes>"
      ]
     },
     "metadata": {},
     "output_type": "display_data"
    }
   ],
   "source": [
    "plt.plot(history.history['loss'])\n",
    "plt.plot(history.history['val_loss'])\n",
    "plt.title('model loss')\n",
    "plt.ylabel('loss')\n",
    "plt.xlabel('epoch')\n",
    "plt.legend(['train', 'test'], loc='best')\n",
    "plt.show()"
   ]
  },
  {
   "cell_type": "code",
   "execution_count": 91,
   "id": "f3b1d33a-b502-4ee8-86b1-b114a32500ed",
   "metadata": {},
   "outputs": [
    {
     "name": "stdout",
     "output_type": "stream",
     "text": [
      "\u001b[1m1/1\u001b[0m \u001b[32m━━━━━━━━━━━━━━━━━━━━\u001b[0m\u001b[37m\u001b[0m \u001b[1m0s\u001b[0m 15ms/step\n"
     ]
    }
   ],
   "source": [
    "#tf.expand_dims(X_test_digit[0])\n",
    "y_predict_single = model.predict(x_test[[7]])\n",
    "y_predict_single=np.argmax(y_predict_single, axis=0)\n",
    "y_test_eval=np.argmax(y_test, axis=0)"
   ]
  },
  {
   "cell_type": "code",
   "execution_count": 92,
   "id": "aa4847c4-fb98-421a-bd2e-908f09e7a67b",
   "metadata": {},
   "outputs": [
    {
     "data": {
      "text/plain": [
       "0"
      ]
     },
     "execution_count": 92,
     "metadata": {},
     "output_type": "execute_result"
    }
   ],
   "source": [
    "y_predicts_single[0]"
   ]
  },
  {
   "cell_type": "code",
   "execution_count": 93,
   "id": "afd91090-71d5-4ba9-9131-886dc9c457be",
   "metadata": {},
   "outputs": [
    {
     "data": {
      "text/plain": [
       "array([0, 0, 0, 0, 0, 0, 0, 0, 0, 0], dtype=int64)"
      ]
     },
     "execution_count": 93,
     "metadata": {},
     "output_type": "execute_result"
    }
   ],
   "source": [
    "y_predicts_single"
   ]
  },
  {
   "cell_type": "code",
   "execution_count": 94,
   "id": "a92e288f-7376-4054-9a17-37ad95b1440a",
   "metadata": {},
   "outputs": [
    {
     "data": {
      "text/plain": [
       "7"
      ]
     },
     "execution_count": 94,
     "metadata": {},
     "output_type": "execute_result"
    }
   ],
   "source": [
    "y_test_eval"
   ]
  },
  {
   "cell_type": "code",
   "execution_count": 97,
   "id": "b3511d13-11fa-4ca1-b94c-956d272609b4",
   "metadata": {},
   "outputs": [
    {
     "name": "stdout",
     "output_type": "stream",
     "text": [
      "\u001b[1m1/1\u001b[0m \u001b[32m━━━━━━━━━━━━━━━━━━━━\u001b[0m\u001b[37m\u001b[0m \u001b[1m0s\u001b[0m 17ms/step\n",
      "1\n"
     ]
    },
    {
     "data": {
      "image/png": "[encoded data removed]",
      "text/plain": [
       "<Figure size 640x480 with 1 Axes>"
      ]
     },
     "metadata": {},
     "output_type": "display_data"
    }
   ],
   "source": [
    "# Ensure the image_index within the range of the test dataset\n",
    "image_index = 6900 # Example index, replace with the actual index you want use\n",
    "# Show the image\n",
    "plt.imshow(x_test[image_index].reshape(28, 28), cmap='Greys')\n",
    "# Preprocess the image for prediction\n",
    "predict = x_test[image_index].reshape(1, 28, 28, 1).astype('float32') / 255.0\n",
    "# Make the prediction\n",
    "pred = model.predict(predict)\n",
    "print(pred.argmax())"
   ]
  },
  {
   "cell_type": "code",
   "execution_count": null,
   "id": "561eb473-4159-4532-b287-ae1d14090136",
   "metadata": {},
   "outputs": [],
   "source": []
  }
 ],
 "metadata": {
  "kernelspec": {
   "display_name": "Python 3 (ipykernel)",
   "language": "python",
   "name": "python3"
  },
  "language_info": {
   "codemirror_mode": {
    "name": "ipython",
    "version": 3
   },
   "file_extension": ".py",
   "mimetype": "text/x-python",
   "name": "python",
   "nbconvert_exporter": "python",
   "pygments_lexer": "ipython3",
   "version": "3.11.5"
  }
 },
 "nbformat": 4,
 "nbformat_minor": 5
}
